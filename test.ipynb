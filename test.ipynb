{
 "cells": [
  {
   "cell_type": "code",
   "execution_count": 2,
   "metadata": {},
   "outputs": [
    {
     "name": "stdout",
     "output_type": "stream",
     "text": [
      "Hello\n",
      "오늘 하루 고생하셨습니다.\n",
      "남은수업도 잘부탁 드립니다. \n",
      "화이팅입니다.\n"
     ]
    }
   ],
   "source": [
    "print('Hello')\n",
    "print('오늘 하루 고생하셨습니다.')\n",
    "print('남은수업도 잘부탁 드립니다. ')\n",
    "print('화이팅입니다.')\n"
   ]
  }
 ],
 "metadata": {
  "kernelspec": {
   "display_name": "Python 3",
   "language": "python",
   "name": "python3"
  },
  "language_info": {
   "codemirror_mode": {
    "name": "ipython",
    "version": 3
   },
   "file_extension": ".py",
   "mimetype": "text/x-python",
   "name": "python",
   "nbconvert_exporter": "python",
   "pygments_lexer": "ipython3",
   "version": "3.13.1"
  }
 },
 "nbformat": 4,
 "nbformat_minor": 2
}
